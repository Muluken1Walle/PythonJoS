{
  "nbformat": 4,
  "nbformat_minor": 0,
  "metadata": {
    "colab": {
      "name": "JobSP.ipynb",
      "provenance": [],
      "authorship_tag": "ABX9TyPxRMtOrsY2cPgxeb/5+2HH",
      "include_colab_link": true
    },
    "kernelspec": {
      "name": "python3",
      "display_name": "Python 3"
    },
    "language_info": {
      "name": "python"
    }
  },
  "cells": [
    {
      "cell_type": "markdown",
      "metadata": {
        "id": "view-in-github",
        "colab_type": "text"
      },
      "source": [
        "<a href=\"https://colab.research.google.com/github/Muluken1Walle/PythonJoS/blob/main/JobSP.ipynb\" target=\"_parent\"><img src=\"https://colab.research.google.com/assets/colab-badge.svg\" alt=\"Open In Colab\"/></a>"
      ]
    },
    {
      "cell_type": "code",
      "execution_count": null,
      "metadata": {
        "colab": {
          "base_uri": "https://localhost:8080/"
        },
        "id": "YtPxQ4VFLyG9",
        "outputId": "84939846-d3dc-4829-ef3d-252ad8df3711"
      },
      "outputs": [
        {
          "output_type": "stream",
          "name": "stdout",
          "text": [
            "I am new to python!\n"
          ]
        }
      ],
      "source": [
        "# Excercise : 1\n",
        "# Write a print function that prints \"I am new to python!\"\n",
        "print('I am new to python!')"
      ]
    },
    {
      "cell_type": "code",
      "source": [
        "# Excercise : 2\n",
        "# To the program where you printed out I am Learning python\n",
        "\n",
        "# Add a comment It is possible to write within my code blocks without python using #\n",
        "# I am startin learning how to print the worde.\n",
        "print(' I am Learning python')\n"
      ],
      "metadata": {
        "colab": {
          "base_uri": "https://localhost:8080/"
        },
        "id": "5V48cq3pQ6v3",
        "outputId": "d157844c-1d5c-4635-cc4e-4aa6377c7c38"
      },
      "execution_count": null,
      "outputs": [
        {
          "output_type": "stream",
          "name": "stdout",
          "text": [
            " I am Learning python\n"
          ]
        }
      ]
    },
    {
      "cell_type": "code",
      "source": [
        "# Excercise : 3\n",
        "# Create a variable as called age and add your age to it\n",
        "\n",
        "# Next print out your age in your notebook \n",
        "age=38\n",
        "age"
      ],
      "metadata": {
        "colab": {
          "base_uri": "https://localhost:8080/"
        },
        "id": "E1C5pNY6RgGS",
        "outputId": "1557c9b6-3c98-45e7-d067-fd09c7b27491"
      },
      "execution_count": null,
      "outputs": [
        {
          "output_type": "execute_result",
          "data": {
            "text/plain": [
              "38"
            ]
          },
          "metadata": {},
          "execution_count": 6
        }
      ]
    },
    {
      "cell_type": "code",
      "source": [
        "# Excercise : 4\n",
        "# Create two inputs with one taking the name and the other taking the age\n",
        "\n",
        "# And then print out Hey <name> I am glad you started learning python at the age of <age>\n",
        "name=input('what is yor name')\n",
        "print('my Name is' \" \", name)\n",
        "age=input('how old are you')\n",
        "print('My age is', age)"
      ],
      "metadata": {
        "colab": {
          "base_uri": "https://localhost:8080/"
        },
        "id": "XPMHZ3fRRotY",
        "outputId": "072220b7-4662-4bba-8218-dc54f400f103"
      },
      "execution_count": null,
      "outputs": [
        {
          "output_type": "stream",
          "name": "stdout",
          "text": [
            "what is yor nameMuluken\n",
            "my Name is  Muluken\n",
            "how old are you38\n",
            "My age is 38\n"
          ]
        }
      ]
    },
    {
      "cell_type": "code",
      "source": [
        ""
      ],
      "metadata": {
        "id": "Fia-eV-deO3q"
      },
      "execution_count": null,
      "outputs": []
    },
    {
      "cell_type": "code",
      "source": [
        "# Excercise : 5\n",
        "# What is the datatype of these three variables :\n",
        "discount = 43.8\n",
        "height = 143\n",
        "address = '#301, Pelican Street'\n",
        "print(type(discount))\n",
        "print(type(height))\n",
        "print(type(address))"
      ],
      "metadata": {
        "colab": {
          "base_uri": "https://localhost:8080/"
        },
        "id": "SZMQop8MSHu9",
        "outputId": "e70514e7-a537-4a5c-f3d1-ef37afb171fa"
      },
      "execution_count": null,
      "outputs": [
        {
          "output_type": "stream",
          "name": "stdout",
          "text": [
            "<class 'float'>\n",
            "<class 'int'>\n",
            "<class 'str'>\n"
          ]
        }
      ]
    },
    {
      "cell_type": "code",
      "source": [
        "\n",
        "# Excercise : 6\n",
        "# Make a list of your favourite colour, food and place and save it in a list called my_favs\n",
        "my_fav=['Yellow','Rice','India']\n",
        "my_fav"
      ],
      "metadata": {
        "colab": {
          "base_uri": "https://localhost:8080/"
        },
        "id": "i-o9VQJ5T93J",
        "outputId": "0e3808ba-7041-4ace-e97f-eb0a579dbd32"
      },
      "execution_count": null,
      "outputs": [
        {
          "output_type": "execute_result",
          "data": {
            "text/plain": [
              "['Yellow', 'Rice', 'India']"
            ]
          },
          "metadata": {},
          "execution_count": 14
        }
      ]
    },
    {
      "cell_type": "code",
      "source": [
        "# Excercise : 7\n",
        "# Using the range function from 4 to 40 and then check the length\n",
        "x=range(4,40,2)\n",
        "print(len(x))\n",
        "x"
      ],
      "metadata": {
        "colab": {
          "base_uri": "https://localhost:8080/"
        },
        "id": "IFh9qyksUalC",
        "outputId": "5b3af1a0-6838-4d2a-d4b9-0420ae373779"
      },
      "execution_count": 11,
      "outputs": [
        {
          "output_type": "stream",
          "name": "stdout",
          "text": [
            "18\n"
          ]
        },
        {
          "output_type": "execute_result",
          "data": {
            "text/plain": [
              "range(4, 40, 2)"
            ]
          },
          "metadata": {},
          "execution_count": 11
        }
      ]
    },
    {
      "cell_type": "code",
      "source": [
        "for i in range(4,40):\n",
        "  print(i)\n",
        "  "
      ],
      "metadata": {
        "colab": {
          "base_uri": "https://localhost:8080/"
        },
        "id": "MlNU-p_5qT8a",
        "outputId": "d5707781-7005-4a1f-8e87-7115c82246d4"
      },
      "execution_count": 10,
      "outputs": [
        {
          "output_type": "stream",
          "name": "stdout",
          "text": [
            "4\n",
            "5\n",
            "6\n",
            "7\n",
            "8\n",
            "9\n",
            "10\n",
            "11\n",
            "12\n",
            "13\n",
            "14\n",
            "15\n",
            "16\n",
            "17\n",
            "18\n",
            "19\n",
            "20\n",
            "21\n",
            "22\n",
            "23\n",
            "24\n",
            "25\n",
            "26\n",
            "27\n",
            "28\n",
            "29\n",
            "30\n",
            "31\n",
            "32\n",
            "33\n",
            "34\n",
            "35\n",
            "36\n",
            "37\n",
            "38\n",
            "39\n"
          ]
        }
      ]
    },
    {
      "cell_type": "code",
      "source": [
        "# Excercise : 8\n",
        "# Make a dictionary with students name and their scores !\n",
        "\n",
        "# Student : Jake Score : 70\n",
        "# Student : Mako Score : 75\n",
        "# Student : Alex Score : 78.5\n",
        "studen={'Jake Score' : 70,'Mako Score' : 75,'Alex Score' : 78.5}\n",
        "studen"
      ],
      "metadata": {
        "colab": {
          "base_uri": "https://localhost:8080/"
        },
        "id": "09uONM3bUsoL",
        "outputId": "57c406c2-6a30-43cb-bca4-d6e849ede572"
      },
      "execution_count": null,
      "outputs": [
        {
          "output_type": "execute_result",
          "data": {
            "text/plain": [
              "{'Alex Score': 78.5, 'Jake Score': 70, 'Mako Score': 75}"
            ]
          },
          "metadata": {},
          "execution_count": 17
        }
      ]
    },
    {
      "cell_type": "code",
      "source": [
        "pi=3.14\n",
        "r=float(input('enter radius'))\n",
        "area=3.14*r**2\n",
        "print('the area of circle is',\" \", area)"
      ],
      "metadata": {
        "colab": {
          "base_uri": "https://localhost:8080/"
        },
        "id": "evmFQZAC1gFn",
        "outputId": "90124f79-e44b-48eb-927f-402ba7e83c4d"
      },
      "execution_count": 12,
      "outputs": [
        {
          "output_type": "stream",
          "name": "stdout",
          "text": [
            "enter radius4\n",
            "the area of circle is   50.24\n"
          ]
        }
      ]
    },
    {
      "cell_type": "code",
      "source": [
        "#Excercise : 9\n",
        "# Create a variable with the value of pi as 3.14, create a new variable as radius and assign it a float value, this will be the radius of a circle \n",
        "# and then output the area of the circle using the formula pi*radius^2\n",
        "# pi=3.14\n",
        "# r=2\n",
        "# area=pi*r**2\n",
        "# area\n",
        "#or\n",
        "PI = 3.14\n",
        "r = float(input(\"Enter the radius of a circle:\"))\n",
        "area = PI * r * r\n",
        "print(\"Area of a circle = %.2f\" %area)\n"
      ],
      "metadata": {
        "colab": {
          "base_uri": "https://localhost:8080/"
        },
        "id": "RNU68NhUVeZb",
        "outputId": "db97a75c-aa25-4402-e8ad-0f3516ae491e"
      },
      "execution_count": null,
      "outputs": [
        {
          "output_type": "stream",
          "name": "stdout",
          "text": [
            "Enter the radius of a circle:2\n",
            "Area of a circle = 12.56\n"
          ]
        }
      ]
    },
    {
      "cell_type": "code",
      "source": [
        "# Let's see what comparison operator can do for us\n",
        "# Excercise : 10\n",
        "# In the last excercise you created a program to get the area of a circle , create a print function that checks\n",
        "#  if the area that your program created is bigger than 50 or not\n",
        "area=12.56\n",
        "if area>50:\n",
        " print('area is greater tahn 50')\n",
        "else:\n",
        "   print('area is less than 50')"
      ],
      "metadata": {
        "colab": {
          "base_uri": "https://localhost:8080/"
        },
        "id": "OmWaRRZNYPAc",
        "outputId": "df3ca4ef-c8af-4ab9-c612-b86d32d4d45f"
      },
      "execution_count": null,
      "outputs": [
        {
          "output_type": "stream",
          "name": "stdout",
          "text": [
            "area is less than 50\n"
          ]
        }
      ]
    },
    {
      "cell_type": "code",
      "source": [
        "# Excercise : 11\n",
        "# Create a print function for our circle area generator to check if the area is between 20 AND 50\n",
        "area=12.5\n",
        "if area <50 and area>20:\n",
        " print('the area is between 20 and 50')\n",
        "else:\n",
        "    print('the area is no between 20 and 50')"
      ],
      "metadata": {
        "colab": {
          "base_uri": "https://localhost:8080/"
        },
        "id": "3yRtuPfRdDYR",
        "outputId": "25300122-a45a-4ca6-c31a-7dcd1b5297fd"
      },
      "execution_count": null,
      "outputs": [
        {
          "output_type": "stream",
          "name": "stdout",
          "text": [
            "the area is no between 20 and 50\n"
          ]
        }
      ]
    }
  ]
}